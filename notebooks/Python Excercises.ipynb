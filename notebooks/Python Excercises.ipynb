{
 "metadata": {
  "name": "Python Excercises-Copy0"
 },
 "nbformat": 3,
 "nbformat_minor": 0,
 "worksheets": [
  {
   "cells": [
    {
     "cell_type": "markdown",
     "metadata": {},
     "source": [
      "I prepared for you a short text file. I put it in the *data* directory. Here are the first few lines."
     ]
    },
    {
     "cell_type": "code",
     "collapsed": false,
     "input": [
      "!head -3 ../data/Python.FromWikipedia.txt"
     ],
     "language": "python",
     "metadata": {},
     "outputs": [
      {
       "output_type": "stream",
       "stream": "stdout",
       "text": [
        "Python is a widely used general-purpose, high-level programming language.[11][12][13] Its design philosophy emphasizes code readability, and its syntax allows programmers to express concepts in fewer lines of code than would be possible in languages such as C.[14][15] The language provides constructs intended to enable clear programs on both a small and large scale.[16]\r\n",
        "\r\n",
        "Python supports multiple programming paradigms, including object-oriented, imperative and functional programming styles. It features a dynamic type system and automatic memory management and has a large and comprehensive standard library.[17]\r\n"
       ]
      }
     ],
     "prompt_number": 13
    },
    {
     "cell_type": "markdown",
     "metadata": {},
     "source": [
      "To read this file and process it, we need to first open a \"file handle\" for it. The first parameter to open is the file name, the second specifies wheter we want to read this file, write to it, or both. In this case we just want to read:"
     ]
    },
    {
     "cell_type": "code",
     "collapsed": false,
     "input": [
      "file=open(\"../data/Python.FromWikipedia.txt\",'r')"
     ],
     "language": "python",
     "metadata": {},
     "outputs": [],
     "prompt_number": 11
    },
    {
     "cell_type": "markdown",
     "metadata": {},
     "source": [
      "To process the file line by line we use the \"for\" command and the .readlines() method on file. In what follows we print for each line and index, the line length and the line itself:"
     ]
    },
    {
     "cell_type": "code",
     "collapsed": false,
     "input": [
      "index=0\n",
      "for line in file.readlines():\n",
      "    print index,len(line),':',line,\n",
      "    index +=1"
     ],
     "language": "python",
     "metadata": {},
     "outputs": [
      {
       "output_type": "stream",
       "stream": "stdout",
       "text": [
        "0 373 : Python is a widely used general-purpose, high-level programming language.[11][12][13] Its design philosophy emphasizes code readability, and its syntax allows programmers to express concepts in fewer lines of code than would be possible in languages such as C.[14][15] The language provides constructs intended to enable clear programs on both a small and large scale.[16]\n",
        "1 1 : \n",
        "2 243 : Python supports multiple programming paradigms, including object-oriented, imperative and functional programming styles. It features a dynamic type system and automatic memory management and has a large and comprehensive standard library.[17]\n",
        "3 1 : \n",
        "4 288 : Like other dynamic languages, Python is often used as a scripting language, but is also used in a wide range of non-scripting contexts. Using third-party tools, Python code can be packaged into standalone executable programs. Python interpreters are available for many operating systems.\n",
        "5 1 : \n",
        "6 245 : CPython, the reference implementation of Python, is free and open source software and has a community-based development model, as do nearly all of its alternative implementations. CPython is managed by the non-profit Python Software Foundation.\n"
       ]
      }
     ],
     "prompt_number": 12
    },
    {
     "cell_type": "markdown",
     "metadata": {},
     "source": [
      "Questions:\n",
      "\n",
      "* What does \"+=1\" mean?\n",
      "* Why is there a comma at the end of the print line? (try without it and see)\n",
      "* If you want to rerun the code segment above, you need to re-run the \"file=open(...\" code line before it, why?"
     ]
    },
    {
     "cell_type": "markdown",
     "metadata": {},
     "source": [
      "I is sometime convenient to just read the whole file into a list, one item per line:"
     ]
    },
    {
     "cell_type": "code",
     "collapsed": false,
     "input": [
      "file=open(\"../data/Python.FromWikipedia.txt\",'r')\n",
      "lines=file.readlines()"
     ],
     "language": "python",
     "metadata": {},
     "outputs": [],
     "prompt_number": 14
    },
    {
     "cell_type": "code",
     "collapsed": false,
     "input": [
      "lines[2]"
     ],
     "language": "python",
     "metadata": {},
     "outputs": [
      {
       "output_type": "pyout",
       "prompt_number": 16,
       "text": [
        "'Python supports multiple programming paradigms, including object-oriented, imperative and functional programming styles. It features a dynamic type system and automatic memory management and has a large and comprehensive standard library.[17]\\n'"
       ]
      }
     ],
     "prompt_number": 16
    },
    {
     "cell_type": "markdown",
     "metadata": {},
     "source": [
      "To break up a line into words we use the method \"split\":"
     ]
    },
    {
     "cell_type": "code",
     "collapsed": false,
     "input": [
      "lines[2].split(' ')[:3]"
     ],
     "language": "python",
     "metadata": {},
     "outputs": [
      {
       "output_type": "pyout",
       "prompt_number": 18,
       "text": [
        "['Python', 'supports', 'multiple']"
       ]
      }
     ],
     "prompt_number": 18
    },
    {
     "cell_type": "markdown",
     "metadata": {},
     "source": [
      "Here is code to count the number of words in the text that consist of 4 letters"
     ]
    },
    {
     "cell_type": "code",
     "collapsed": false,
     "input": [
      "count=0\n",
      "for line in lines:\n",
      "    for word in line.split(' '):\n",
      "        if len(word)==4:\n",
      "            count +=1\n",
      "count"
     ],
     "language": "python",
     "metadata": {},
     "outputs": [
      {
       "output_type": "pyout",
       "prompt_number": 20,
       "text": [
        "17"
       ]
      }
     ],
     "prompt_number": 20
    },
    {
     "cell_type": "markdown",
     "metadata": {},
     "source": [
      "## Excercises\n",
      "1. count the number of words that have the letter \"a\" as thei second letter.\n",
      "2. Captialize the first letter of each word and print the lines back out.\n",
      "3. Make a list of the reference numbers '[dd]', transform them into integer numbers and sort the in decreasing order.\n",
      "4. Count the number of sentences (not paragraphs)\n",
      "5. Find and print all of the word-pairs that contain an ampersand (such as object-oriented)."
     ]
    },
    {
     "cell_type": "code",
     "collapsed": false,
     "input": [],
     "language": "python",
     "metadata": {},
     "outputs": []
    }
   ],
   "metadata": {}
  }
 ]
}